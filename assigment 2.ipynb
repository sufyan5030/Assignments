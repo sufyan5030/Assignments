{
 "cells": [
  {
   "cell_type": "markdown",
   "id": "37356c41",
   "metadata": {},
   "source": [
    "# Chapter2"
   ]
  },
  {
   "cell_type": "code",
   "execution_count": 1,
   "id": "d58bf239",
   "metadata": {},
   "outputs": [
    {
     "name": "stdout",
     "output_type": "stream",
     "text": [
      "2\n"
     ]
    }
   ],
   "source": [
    "print (2)"
   ]
  },
  {
   "cell_type": "code",
   "execution_count": 2,
   "id": "2a710292",
   "metadata": {},
   "outputs": [
    {
     "name": "stdout",
     "output_type": "stream",
     "text": [
      "123\n",
      "98.6\n",
      "Hello world\n"
     ]
    }
   ],
   "source": [
    "print(123)\n",
    "print(98.6)\n",
    "print('Hello world')"
   ]
  },
  {
   "cell_type": "code",
   "execution_count": 3,
   "id": "c6df24ee",
   "metadata": {},
   "outputs": [
    {
     "name": "stdout",
     "output_type": "stream",
     "text": [
      "437.5\n"
     ]
    }
   ],
   "source": [
    "x1q3z9ocd = 35.0 \n",
    "x1q3z9afd = 12.50\n",
    "x1q3p9afd = x1q3z9ocd * x1q3z9afd\n",
    "print(x1q3p9afd)"
   ]
  },
  {
   "cell_type": "code",
   "execution_count": 6,
   "id": "11f65d8d",
   "metadata": {},
   "outputs": [
    {
     "name": "stdout",
     "output_type": "stream",
     "text": [
      "4\n",
      "5280\n",
      "5.28\n"
     ]
    }
   ],
   "source": [
    "xx = 2\n",
    "xx = xx + 2\n",
    "print(xx)\n",
    "\n",
    "yy = 440 * 12\n",
    "print(yy)\n",
    "\n",
    "zz = yy / 1000\n",
    "print(zz)"
   ]
  },
  {
   "cell_type": "markdown",
   "id": "d76d0a4e",
   "metadata": {},
   "source": [
    "# chapter 3"
   ]
  },
  {
   "cell_type": "code",
   "execution_count": 8,
   "id": "75678c64",
   "metadata": {},
   "outputs": [
    {
     "name": "stdout",
     "output_type": "stream",
     "text": [
      "Equals 5\n",
      "Greater than 4\n",
      "Greater than or Equals 5\n",
      "Less than 6\n",
      "Less than or Equals 5\n",
      "Not equal 6\n"
     ]
    }
   ],
   "source": [
    "x = 5\n",
    "if x == 5 : \n",
    "    print('Equals 5')\n",
    "if x > 4 : \n",
    "    print('Greater than 4')\n",
    "if x >= 5 :\n",
    "    print('Greater than or Equals 5')\n",
    "if x < 6 : \n",
    "    print('Less than 6') \n",
    "if x <= 5 :\n",
    "    print('Less than or Equals 5')\n",
    "if x != 6 :\n",
    "    print('Not equal 6')"
   ]
  },
  {
   "cell_type": "code",
   "execution_count": 9,
   "id": "8566407f",
   "metadata": {},
   "outputs": [
    {
     "name": "stdout",
     "output_type": "stream",
     "text": [
      "Bigger\n"
     ]
    }
   ],
   "source": [
    "if x > 2 :\n",
    "    print('Bigger')\n",
    "else :\n",
    "    print('Smaller')\n",
    "    print('All done')"
   ]
  },
  {
   "cell_type": "code",
   "execution_count": 10,
   "id": "c67b2f72",
   "metadata": {},
   "outputs": [
    {
     "name": "stdout",
     "output_type": "stream",
     "text": [
      "Medium\n"
     ]
    }
   ],
   "source": [
    "if x < 2 :\n",
    "    print('small')\n",
    "elif x < 10 :\n",
    "    print('Medium')\n",
    "else :\n",
    "    print('LARGE')\n",
    "    print('All done')"
   ]
  },
  {
   "cell_type": "code",
   "execution_count": 11,
   "id": "95a2e955",
   "metadata": {},
   "outputs": [
    {
     "name": "stdout",
     "output_type": "stream",
     "text": [
      "small\n"
     ]
    }
   ],
   "source": [
    "x = 0 \n",
    "if x < 2 :\n",
    "    print('small')\n",
    "elif x < 10 :\n",
    "    print('Medium')\n",
    "else :\n",
    "    print('LARGE')\n",
    "    print('All done')"
   ]
  },
  {
   "cell_type": "code",
   "execution_count": 12,
   "id": "d7d328db",
   "metadata": {},
   "outputs": [
    {
     "name": "stdout",
     "output_type": "stream",
     "text": [
      "LARGE\n",
      "All done\n"
     ]
    }
   ],
   "source": [
    "x = 20\n",
    "if x < 2 :\n",
    "    print('small')\n",
    "elif x < 10 :\n",
    "    print('Medium')\n",
    "else :\n",
    "    print('LARGE')\n",
    "    print('All done')"
   ]
  },
  {
   "cell_type": "code",
   "execution_count": 13,
   "id": "f824d3c8",
   "metadata": {},
   "outputs": [
    {
     "name": "stdout",
     "output_type": "stream",
     "text": [
      "Medium\n",
      "All done\n"
     ]
    }
   ],
   "source": [
    "# No Else\n",
    "x = 5\n",
    "if x < 2 :\n",
    "    print('Small')\n",
    "elif x < 10 :\n",
    "    print('Medium')\n",
    "    print('All done')"
   ]
  },
  {
   "cell_type": "code",
   "execution_count": 14,
   "id": "10f1cb03",
   "metadata": {},
   "outputs": [
    {
     "name": "stdout",
     "output_type": "stream",
     "text": [
      "Two or more\n"
     ]
    }
   ],
   "source": [
    "if x < 2 :\n",
    "    print('Below 2')\n",
    "elif x >= 2 : \n",
    "    print('Two or more')\n",
    "else :\n",
    "    print('Something else')"
   ]
  },
  {
   "cell_type": "markdown",
   "id": "535b0a17",
   "metadata": {},
   "source": [
    "# Chapter 4"
   ]
  },
  {
   "cell_type": "code",
   "execution_count": 16,
   "id": "6acca855",
   "metadata": {},
   "outputs": [
    {
     "name": "stdout",
     "output_type": "stream",
     "text": [
      "Hello\n",
      "7\n"
     ]
    }
   ],
   "source": [
    "x = 5\n",
    "print('Hello')\n",
    "def print_lyrics():\n",
    "    print(\"I'm a lumberjack, and I'm okay.\")\n",
    "    print('I sleep all night and I work all day.')\n",
    "    print('Yo')\n",
    "x = x + 2\n",
    "print(x)"
   ]
  },
  {
   "cell_type": "code",
   "execution_count": 28,
   "id": "765dce40",
   "metadata": {},
   "outputs": [
    {
     "name": "stdout",
     "output_type": "stream",
     "text": [
      "Hello\n",
      "Hola\n",
      "Bonjour\n"
     ]
    }
   ],
   "source": [
    "def greet(lang):\n",
    "    if lang == 'es':\n",
    "        print('Hola')\n",
    "    elif lang == 'fr':\n",
    "        print('Bonjour')\n",
    "    else:\n",
    "        print('Hello')\n",
    "greet('en')\n",
    "greet('es')\n",
    "greet('fr')"
   ]
  },
  {
   "cell_type": "code",
   "execution_count": 35,
   "id": "217bb370",
   "metadata": {},
   "outputs": [
    {
     "name": "stdout",
     "output_type": "stream",
     "text": [
      "Hello Glenn\n",
      "Hola Sally\n",
      "Bonjour Michael\n"
     ]
    }
   ],
   "source": [
    "def greet(lang):\n",
    "    if lang == 'es':\n",
    "        return 'Hola'\n",
    "    elif lang == 'fr':\n",
    "        return 'Bonjour'\n",
    "    else:\n",
    "            return 'Hello' \n",
    "print(greet('en'),'Glenn')\n",
    "print(greet('es'),'Sally')\n",
    "print(greet('fr'),'Michael')"
   ]
  },
  {
   "cell_type": "markdown",
   "id": "4e1c53e8",
   "metadata": {},
   "source": [
    "# Chapter 5"
   ]
  },
  {
   "cell_type": "code",
   "execution_count": null,
   "id": "427f1022",
   "metadata": {},
   "outputs": [],
   "source": [
    "n = 0\n",
    "while n > 0 :\n",
    "    print('Lather')\n",
    "    print('Rinse')\n",
    "print('Dry off!')"
   ]
  },
  {
   "cell_type": "code",
   "execution_count": null,
   "id": "030c3834",
   "metadata": {},
   "outputs": [],
   "source": [
    "while True:\n",
    "    line = input('> ')\n",
    "if line[0] == '#' :\n",
    "    continue\n",
    "if line == 'done' :\n",
    "    break\n",
    "print(line)\n",
    "print('Done!')"
   ]
  },
  {
   "cell_type": "code",
   "execution_count": null,
   "id": "eb59531d",
   "metadata": {},
   "outputs": [],
   "source": [
    "print('Before')\n",
    "for thing in [9, 41, 12, 3, 74, 15] :\n",
    "    print(thing)\n",
    "print('After')"
   ]
  },
  {
   "cell_type": "code",
   "execution_count": null,
   "id": "08153a1d",
   "metadata": {},
   "outputs": [],
   "source": [
    "zork = 0\n",
    "print('Before', zork)\n",
    "for thing in [9, 41, 12, 3, 74, 15] :\n",
    "    zork = zork + 1\n",
    "    print(zork, thing)\n",
    "print('After', zork)"
   ]
  },
  {
   "cell_type": "code",
   "execution_count": null,
   "id": "89d0043d",
   "metadata": {},
   "outputs": [],
   "source": [
    "found = False\n",
    "print('Before', found)\n",
    "for value in [9, 41, 12, 3, 74, 15] : \n",
    "    if value == 3 :\n",
    "        found = True\n",
    "    print(found, value)\n",
    "print('After', found)"
   ]
  },
  {
   "cell_type": "code",
   "execution_count": null,
   "id": "7104721b",
   "metadata": {},
   "outputs": [],
   "source": [
    "smallest = None\n",
    "print('Before')\n",
    "for value in [9, 41, 12, 3, 74, 15] :\n",
    "    if smallest is None : \n",
    "        smallest = value\n",
    "    elif value < smallest : \n",
    "        smallest = value\n",
    "print(smallest, value)\n",
    "print('After', smallest)"
   ]
  },
  {
   "cell_type": "markdown",
   "id": "e3e706e0",
   "metadata": {},
   "source": [
    "# Chapter 6\n"
   ]
  },
  {
   "cell_type": "code",
   "execution_count": null,
   "id": "b5ed2ffa",
   "metadata": {},
   "outputs": [],
   "source": [
    "s = 'Monty Python'\n",
    "print(s[0:4])\n",
    "print(s[6:7])\n",
    "print(s[6:20])"
   ]
  },
  {
   "cell_type": "code",
   "execution_count": null,
   "id": "2b0a7311",
   "metadata": {},
   "outputs": [],
   "source": [
    "if word == 'banana':\n",
    "    print('All right, bananas.')\n",
    "if word < 'banana':\n",
    "    print('Your word,' + word + ', comes before banana.')\n",
    "elif word > 'banana':\n",
    "    print('Your word,' + word + ', comes after banana.')\n",
    "else:\n",
    "    print('All right, bananas.'"
   ]
  },
  {
   "cell_type": "code",
   "execution_count": null,
   "id": "f9a55f5a",
   "metadata": {},
   "outputs": [],
   "source": [
    "greet = 'Hello Bob'\n",
    " nnn = greet.upper()\n",
    "print(nnn)\n",
    " www = greet.lower()\n",
    "print(www)"
   ]
  },
  {
   "cell_type": "code",
   "execution_count": null,
   "id": "41d7315b",
   "metadata": {},
   "outputs": [],
   "source": []
  }
 ],
 "metadata": {
  "kernelspec": {
   "display_name": "Python 3 (ipykernel)",
   "language": "python",
   "name": "python3"
  },
  "language_info": {
   "codemirror_mode": {
    "name": "ipython",
    "version": 3
   },
   "file_extension": ".py",
   "mimetype": "text/x-python",
   "name": "python",
   "nbconvert_exporter": "python",
   "pygments_lexer": "ipython3",
   "version": "3.11.4"
  }
 },
 "nbformat": 4,
 "nbformat_minor": 5
}
